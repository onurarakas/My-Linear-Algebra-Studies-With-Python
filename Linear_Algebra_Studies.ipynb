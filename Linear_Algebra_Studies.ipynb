{
 "cells": [
  {
   "cell_type": "markdown",
   "id": "fc4f17dc",
   "metadata": {},
   "source": [
    "## First Question"
   ]
  },
  {
   "cell_type": "code",
   "execution_count": 1,
   "id": "8d37dd14",
   "metadata": {
    "scrolled": true
   },
   "outputs": [
    {
     "name": "stdout",
     "output_type": "stream",
     "text": [
      "Enter number of elements : 2\n",
      "1\n",
      "2\n",
      "3\n",
      "4\n",
      "[[1.0, 2.0], [3.0, 4.0]]\n",
      "Enter number of elements : 2\n",
      "3\n",
      "4\n",
      "5\n",
      "6\n",
      "[[3.0, 4.0], [5.0, 6.0]]\n",
      "Our values and their dot product:\n",
      "[[1. 2.]\n",
      " [3. 4.]],     [[3. 4.]\n",
      " [5. 6.]],     [[13. 16.]\n",
      " [29. 36.]]\n"
     ]
    }
   ],
   "source": [
    "import numpy as np\n",
    "\n",
    "#create your first matrix\n",
    "\n",
    "lst= [ ] \n",
    "n = int(input(\"Enter number of elements : \")) \n",
    "  \n",
    "for i in range(0,n):\n",
    "    g = [float(input()), float(input())]\n",
    "    lst.append(g)\n",
    "      \n",
    "print(lst)\n",
    "\n",
    "a = np.array(lst)\n",
    "\n",
    "#create your second matrix\n",
    "\n",
    "lst2= [ ] \n",
    "n = int(input(\"Enter number of elements : \")) \n",
    "  \n",
    "for i in range(0,n):\n",
    "    g = [float(input()), float(input())]\n",
    "    lst2.append(g)\n",
    "    \n",
    "print(lst2)\n",
    "\n",
    "b = np.array(lst2)\n",
    "\n",
    "\n",
    "print(\"Our values and their dot product:\" )\n",
    "print(a, b, np.dot(a, b), sep = ',     ')"
   ]
  },
  {
   "cell_type": "markdown",
   "id": "4f02e2fe",
   "metadata": {},
   "source": [
    "## Second Question"
   ]
  },
  {
   "cell_type": "markdown",
   "id": "21621ffd",
   "metadata": {},
   "source": [
    "Inner matrix is what we know as dot product but what exactly is the outer product?\n",
    "\n",
    "suppose you have u =<u1, u2, u3>, v =<v1, v2, v3> dot product of these two would be $  u^T   v$\n",
    "\n",
    "but you might not know is outer product of these two would be $ u    v^T = <[u1*v1,u1*v2,u1*v3];[u2*v1,u2*v2,u2*v3];[u3*v1,u3*v2,u3*v3]> $"
   ]
  },
  {
   "cell_type": "code",
   "execution_count": 6,
   "id": "91056092",
   "metadata": {},
   "outputs": [
    {
     "name": "stdout",
     "output_type": "stream",
     "text": [
      "Enter the number of rows:2\n",
      "Enter the number of columns:2\n",
      "Enter the entries in a single line (separated by space): \n",
      "1 2 3 4\n",
      "Enter the number of rows:2\n",
      "Enter the number of columns:2\n",
      "Enter the entries in a single line (separated by space): \n",
      "1 2 3 4\n",
      "Our values and their outer product:\n",
      "[[1 2]\n",
      " [3 4]], [[1 2]\n",
      " [3 4]], [[ 1  2  3  4]\n",
      " [ 2  4  6  8]\n",
      " [ 3  6  9 12]\n",
      " [ 4  8 12 16]]\n"
     ]
    }
   ],
   "source": [
    "import numpy as np\n",
    "#çalınan kodların kaynağı:\n",
    "\n",
    "#https://www.quora.com/What-does-the-following-line-mean-in-Python-list-map-int-input-strip-split-I\n",
    "#https://www.geeksforgeeks.org/take-matrix-input-from-user-in-python/\n",
    "  \n",
    "R1 = int(input(\"Enter the number of rows:\"))\n",
    "C1 = int(input(\"Enter the number of columns:\"))\n",
    "  \n",
    "  \n",
    "print(\"Enter the entries in a single line (separated by space): \")\n",
    "  \n",
    "# User input of entries in a \n",
    "# single line separated by space\n",
    "entries1 = list(map(int, input().split()))\n",
    "\n",
    "matrix1 = np.array(entries1).reshape(R1, C1)\n",
    "\n",
    "R2 = int(input(\"Enter the number of rows:\"))\n",
    "C2 = int(input(\"Enter the number of columns:\"))\n",
    "  \n",
    "  \n",
    "print(\"Enter the entries in a single line (separated by space): \")\n",
    "  \n",
    "# User input of entries in a \n",
    "# single line separated by space\n",
    "entries2 = list(map(int, input().split()))\n",
    "\n",
    "matrix2 = np.array(entries2).reshape(R2, C2)\n",
    "  \n",
    "# For printing the matrix\n",
    "print(\"Our values and their outer product:\")\n",
    "\n",
    "print(matrix1, matrix2, np.outer(matrix, matrix2), sep = ', ')"
   ]
  },
  {
   "cell_type": "markdown",
   "id": "e6cc23c4",
   "metadata": {},
   "source": [
    "## Third Question"
   ]
  },
  {
   "cell_type": "code",
   "execution_count": 7,
   "id": "f1eb8f03",
   "metadata": {},
   "outputs": [
    {
     "name": "stdout",
     "output_type": "stream",
     "text": [
      "Enter the number of rows:1\n",
      "Enter the number of columns:3\n",
      "Enter the entries in a single line (separated by space): \n",
      "1 2 3\n",
      "Enter the number of rows:1\n",
      "Enter the number of columns:3\n",
      "Enter the entries in a single line (separated by space): \n",
      "1 2 3\n",
      "our values and their cross product:\n",
      "[[1 2 3]], [[1 2 3]], [[0 0 0]]\n"
     ]
    }
   ],
   "source": [
    "R3 = int(input(\"Enter the number of rows:\"))\n",
    "C3 = int(input(\"Enter the number of columns:\"))\n",
    "  \n",
    "  \n",
    "print(\"Enter the entries in a single line (separated by space): \")\n",
    "  \n",
    "# User input of entries in a \n",
    "# single line separated by space\n",
    "entries3 = list(map(int, input().split()))\n",
    "  \n",
    "\n",
    "matrix3 = np.array(entries3).reshape(R3, C3)\n",
    "\n",
    "\n",
    "\n",
    "R4 = int(input(\"Enter the number of rows:\"))\n",
    "C4 = int(input(\"Enter the number of columns:\"))\n",
    "  \n",
    "  \n",
    "print(\"Enter the entries in a single line (separated by space): \")\n",
    "  \n",
    "# User input of entries in a \n",
    "# single line separated by space\n",
    "entries4 = list(map(int, input().split()))\n",
    "\n",
    "matrix4 = np.array(entries4).reshape(R4, C4)\n",
    "  \n",
    "\n",
    "\n",
    "print(\"our values and their cross product:\")\n",
    "\n",
    "print(matrix3, matrix4, np.cross(matrix3, matrix4), sep = ', ')"
   ]
  },
  {
   "cell_type": "markdown",
   "id": "9f6e48ca",
   "metadata": {},
   "source": [
    "## Fourth Question\n"
   ]
  },
  {
   "cell_type": "code",
   "execution_count": 8,
   "id": "8f5120ce",
   "metadata": {},
   "outputs": [
    {
     "name": "stdout",
     "output_type": "stream",
     "text": [
      "Enter the number of rows:2\n",
      "Enter the number of columns:2\n",
      "Enter the entries in a single line (separated by space): \n",
      "1 2 3 4\n",
      "our values and it's cross product:\n",
      "[[1 2]\n",
      " [3 4]], -2.0000000000000004\n"
     ]
    }
   ],
   "source": [
    "R5 = int(input(\"Enter the number of rows:\"))\n",
    "C5 = int(input(\"Enter the number of columns:\"))\n",
    "  \n",
    "  \n",
    "print(\"Enter the entries in a single line (separated by space): \")\n",
    "  \n",
    "# User input of entries in a \n",
    "# single line separated by space\n",
    "entries5 = list(map(int, input().split()))\n",
    "  \n",
    "# For printing the matrix\n",
    "matrix5 = np.array(entries).reshape(R5, C5)\n",
    "\n",
    "matrix5_det = np.linalg.det(matrix5)\n",
    "print(\"our values and it's cross product:\")\n",
    "\n",
    "print(matrix5, matrix5_det, sep = ', ')"
   ]
  },
  {
   "cell_type": "markdown",
   "id": "09b09e87",
   "metadata": {},
   "source": [
    "## Fifth Question\n"
   ]
  },
  {
   "cell_type": "code",
   "execution_count": 30,
   "id": "442f143b",
   "metadata": {},
   "outputs": [],
   "source": [
    "#Einstein's summation convention'ın ne olduğunu anlayamadım"
   ]
  },
  {
   "cell_type": "markdown",
   "id": "7673f029",
   "metadata": {},
   "source": [
    "## Sixth Question"
   ]
  },
  {
   "cell_type": "code",
   "execution_count": 31,
   "id": "d2b175c6",
   "metadata": {},
   "outputs": [
    {
     "name": "stdout",
     "output_type": "stream",
     "text": [
      "Enter the number of rows:2\n",
      "Enter the number of columns:3\n",
      "Enter the entries in a single line (separated by space): \n",
      "1 2 3 4 5 6\n",
      "Enter the number of rows:2\n",
      "Enter the number of columns:3\n",
      "Enter the entries in a single line (separated by space): \n",
      "7 8 9 10 11 12\n",
      "[[1 2 3]\n",
      " [4 5 6]]oooooooooo[[ 7  8  9]\n",
      " [10 11 12]]oooooooooo[[ 50  68]\n",
      " [122 167]]\n"
     ]
    }
   ],
   "source": [
    "R6 = int(input(\"Enter the number of rows:\"))\n",
    "C6 = int(input(\"Enter the number of columns:\"))\n",
    "  \n",
    "  \n",
    "print(\"Enter the entries in a single line (separated by space): \")\n",
    "  \n",
    "# User input of entries in a \n",
    "# single line separated by space\n",
    "entries6 = list(map(int, input().split()))\n",
    "  \n",
    "# For printing the matrix\n",
    "matrix6 = np.array(entries).reshape(R6, C6)\n",
    "\n",
    "\n",
    "R7 = int(input(\"Enter the number of rows:\"))\n",
    "C7 = int(input(\"Enter the number of columns:\"))\n",
    "  \n",
    "  \n",
    "print(\"Enter the entries in a single line (separated by space): \")\n",
    "  \n",
    "# User input of entries in a \n",
    "# single line separated by space\n",
    "entries7 = list(map(int, input().split()))\n",
    "  \n",
    "# For printing the matrix\n",
    "matrix7 = np.array(entries7).reshape(R7, C7)\n",
    "\n",
    "\n",
    "print(matrix5, matrix6, np.inner(matrix5, matrix6), sep = 'oooooooooo')\n",
    "\n",
    "\n",
    "\n"
   ]
  },
  {
   "cell_type": "markdown",
   "id": "e76d7df5",
   "metadata": {},
   "source": [
    "## Seventh Question\n"
   ]
  },
  {
   "cell_type": "code",
   "execution_count": 9,
   "id": "9c5f3489",
   "metadata": {},
   "outputs": [
    {
     "name": "stdout",
     "output_type": "stream",
     "text": [
      "our eigen values (as an array) and eigen vector:\n",
      "[2. 8. 2.], [[-0.81649658  0.57735027 -0.32444284]\n",
      " [ 0.40824829  0.57735027 -0.48666426]\n",
      " [ 0.40824829  0.57735027  0.81110711]]\n"
     ]
    }
   ],
   "source": [
    "D = np.array([[4, 2, 2],[2, 4, 2],[2, 2, 4]])\n",
    "\n",
    "w, v =np.linalg.eig(D)\n",
    "\n",
    "print(\"our eigen values (as an array) and eigen vector:\")\n",
    "\n",
    "print(w, v, sep = ', ')\n",
    "\n"
   ]
  },
  {
   "cell_type": "markdown",
   "id": "51fbabcd",
   "metadata": {},
   "source": [
    "## Eighth Question\n",
    "\n",
    "Kronecker Product = For example you have two matrices A and B, kronecker product of these two is a vector like; <<a_11*B>,...<a_nn*B>> assuming A is n*n\n",
    "\n",
    "https://en.wikipedia.org/wiki/Kronecker_product"
   ]
  },
  {
   "cell_type": "code",
   "execution_count": 43,
   "id": "19ba5a7c",
   "metadata": {},
   "outputs": [
    {
     "name": "stdout",
     "output_type": "stream",
     "text": [
      "Enter the number of rows:2\n",
      "Enter the number of columns:2\n",
      "Enter the entries in a single line (separated by space): \n",
      "1 5 7 11\n",
      "Enter the number of rows:2\n",
      "Enter the number of columns:2\n",
      "Enter the entries in a single line (separated by space): \n",
      "11 5 77 11\n",
      "[[ 1  5]\n",
      " [ 7 11]]ğğğğğğğğğ[[11  5]\n",
      " [77 11]]ğğğğğğğğğ[[ 11   5  55  25]\n",
      " [ 77  11 385  55]\n",
      " [ 77  35 121  55]\n",
      " [539  77 847 121]]\n"
     ]
    }
   ],
   "source": [
    "R8 = int(input(\"Enter the number of rows:\"))\n",
    "C 8= int(input(\"Enter the number of columns:\"))\n",
    "  \n",
    "  \n",
    "print(\"Enter the entries in a single line (separated by space): \")\n",
    "  \n",
    "# User input of entries in a \n",
    "# single line separated by space\n",
    "entries8 = list(map(int, input().split()))\n",
    "  \n",
    "# For printing the matrix\n",
    "matrix8 = np.array(entries8).reshape(R8, C8)\n",
    "\n",
    "\n",
    "R9 = int(input(\"Enter the number of rows:\"))\n",
    "C9 = int(input(\"Enter the number of columns:\"))\n",
    "  \n",
    "  \n",
    "print(\"Enter the entries in a single line (separated by space): \")\n",
    "  \n",
    "# User input of entries in a \n",
    "# single line separated by space\n",
    "entries9 = list(map(int, input().split()))\n",
    "  \n",
    "# For printing the matrix\n",
    "matrix9 = np.array(entries9).reshape(R9, C9)\n",
    "\n",
    "print(\"our values and it's kronecker product:\")\n",
    "\n",
    "print(matrix8, matrix9, np.kron(matrix8, matrix9), sep = ', ')\n"
   ]
  },
  {
   "cell_type": "markdown",
   "id": "6b1ca22d",
   "metadata": {},
   "source": [
    "## Ninth Question\n",
    "\n",
    "condition number is defined as $ k = ||A||||A^{-1}||$ so obviously A must be a square matrix"
   ]
  },
  {
   "cell_type": "code",
   "execution_count": 10,
   "id": "33956120",
   "metadata": {},
   "outputs": [
    {
     "name": "stdout",
     "output_type": "stream",
     "text": [
      "Enter the number of rows:2\n",
      "Enter the number of columns:2\n",
      "Enter the entries in a single line (separated by space): \n",
      "1 4 6 7\n",
      "our matrix, what i found out as its condition number and it's real condition number\n",
      "[[1. 4.]\n",
      " [6. 7.]], 10.643775927103809, 5.828427124746183\n"
     ]
    }
   ],
   "source": [
    "R10 = int(input(\"Enter the number of rows:\"))\n",
    "C10 = int(input(\"Enter the number of columns:\"))\n",
    "  \n",
    "  \n",
    "print(\"Enter the entries in a single line (separated by space): \")\n",
    "  \n",
    "# User input of entries in a \n",
    "# single line separated by space\n",
    "entries10 = list(map(float, input().split()))\n",
    "  \n",
    "# For printing the matrix\n",
    "matrix10 = np.array(entries10).reshape(R10, C10)\n",
    "\n",
    "matrix10i = matrix10**-1\n",
    "\n",
    "matrix10_inv = np.linalg.inv(matrix10)\n",
    "\n",
    "print(\"our matrix, what i found out as its condition number and it's real condition number\")\n",
    "\n",
    "print(matrix10, np.linalg.norm(matrix10)*np.linalg.norm(matrix10i),np.linalg.cond(matrix10), sep = ', ' )"
   ]
  },
  {
   "cell_type": "markdown",
   "id": "32e0c90e",
   "metadata": {},
   "source": [
    "## Tenth Question"
   ]
  },
  {
   "cell_type": "code",
   "execution_count": 1,
   "id": "796b8311",
   "metadata": {},
   "outputs": [
    {
     "ename": "NameError",
     "evalue": "name 'np' is not defined",
     "output_type": "error",
     "traceback": [
      "\u001b[1;31m---------------------------------------------------------------------------\u001b[0m",
      "\u001b[1;31mNameError\u001b[0m                                 Traceback (most recent call last)",
      "\u001b[1;32m~\\AppData\\Local\\Temp/ipykernel_24272/2826386393.py\u001b[0m in \u001b[0;36m<module>\u001b[1;34m\u001b[0m\n\u001b[1;32m----> 1\u001b[1;33m \u001b[0mpü\u001b[0m \u001b[1;33m=\u001b[0m \u001b[0mnp\u001b[0m\u001b[1;33m.\u001b[0m\u001b[0marange\u001b[0m\u001b[1;33m(\u001b[0m\u001b[1;36m3\u001b[0m\u001b[1;33m)\u001b[0m\u001b[1;33m\u001b[0m\u001b[1;33m\u001b[0m\u001b[0m\n\u001b[0m",
      "\u001b[1;31mNameError\u001b[0m: name 'np' is not defined"
     ]
    }
   ],
   "source": [
    "pü = np.arange(3)"
   ]
  },
  {
   "cell_type": "code",
   "execution_count": 21,
   "id": "3a1a0562",
   "metadata": {},
   "outputs": [],
   "source": [
    "i = 0\n",
    "i = i + 1\n",
    "norm = np.sqrt(pü[i]**2 + pü[i]**2 + pü[i]**2)#elle"
   ]
  },
  {
   "cell_type": "code",
   "execution_count": 22,
   "id": "d9598d13",
   "metadata": {},
   "outputs": [
    {
     "data": {
      "text/plain": [
       "array([0, 1, 2])"
      ]
     },
     "execution_count": 22,
     "metadata": {},
     "output_type": "execute_result"
    }
   ],
   "source": [
    "pü"
   ]
  },
  {
   "cell_type": "code",
   "execution_count": 23,
   "id": "825013ed",
   "metadata": {},
   "outputs": [
    {
     "data": {
      "text/plain": [
       "1.7320508075688772"
      ]
     },
     "execution_count": 23,
     "metadata": {},
     "output_type": "execute_result"
    }
   ],
   "source": [
    "norm\n"
   ]
  },
  {
   "cell_type": "code",
   "execution_count": 24,
   "id": "ebea63c1",
   "metadata": {},
   "outputs": [],
   "source": [
    "püü = np.linalg.norm(pü) #numpy ile"
   ]
  },
  {
   "cell_type": "code",
   "execution_count": 25,
   "id": "1f261bb7",
   "metadata": {},
   "outputs": [
    {
     "data": {
      "text/plain": [
       "2.23606797749979"
      ]
     },
     "execution_count": 25,
     "metadata": {},
     "output_type": "execute_result"
    }
   ],
   "source": [
    "püü\n"
   ]
  },
  {
   "cell_type": "markdown",
   "id": "5f557308",
   "metadata": {},
   "source": [
    "## Eleventh Question"
   ]
  },
  {
   "cell_type": "code",
   "execution_count": 15,
   "id": "3a1d298d",
   "metadata": {},
   "outputs": [
    {
     "name": "stdout",
     "output_type": "stream",
     "text": [
      "Enter the number of rows:3\n",
      "Enter the number of columns:3\n",
      "Enter the entries in a single line (separated by space): \n",
      "2 3 4 5 6 7 3 4 2\n",
      "our matrix, what i found as its det, what actually is its det\n",
      "[[2. 3. 4.]\n",
      " [5. 6. 7.]\n",
      " [3. 4. 2.]], 9.0, 8.999999999999998\n"
     ]
    }
   ],
   "source": [
    "R11 = int(input(\"Enter the number of rows:\"))\n",
    "C11 = int(input(\"Enter the number of columns:\"))\n",
    "  \n",
    "  \n",
    "print(\"Enter the entries in a single line (separated by space): \")\n",
    "  \n",
    "# User input of entries in a \n",
    "# single line separated by space\n",
    "entries11 = list(map(float, input().split()))\n",
    "  \n",
    "# For printing the matrix\n",
    "matrix11 = np.array(entries11).reshape(R11, C11)\n",
    "\n",
    "def f(matrix11):\n",
    "    return matrix11[0,0]*(matrix11[1,1]*matrix11[2,2]-matrix11[1,2]*matrix11[2,1]) \\\n",
    "- matrix11[0,1]*(matrix11[1,0]*matrix11[2,2]-matrix11[2,0]*matrix11[1,2]) + \\\n",
    "matrix11[0,2]*(matrix11[1,0]*matrix11[2,1]-matrix11[2,0]*matrix11[1,1])\n",
    "\n",
    "print(\"our matrix, what i found as its det, what actually is its det\")\n",
    "\n",
    "print(matrix11, f(matrix11), np.linalg.det(matrix11), sep = ', ')\n",
    "\n"
   ]
  },
  {
   "cell_type": "markdown",
   "id": "3778e670",
   "metadata": {},
   "source": [
    "## Twelth Question"
   ]
  },
  {
   "cell_type": "code",
   "execution_count": 16,
   "id": "a18168e3",
   "metadata": {},
   "outputs": [
    {
     "name": "stdout",
     "output_type": "stream",
     "text": [
      "Enter the number of rows:2\n",
      "Enter the number of columns:2\n",
      "Enter the entries in a single line (separated by space): \n",
      "2 3 4 5\n"
     ]
    }
   ],
   "source": [
    "R12 = int(input(\"Enter the number of rows:\"))\n",
    "C12 = int(input(\"Enter the number of columns:\"))\n",
    "  \n",
    "  \n",
    "print(\"Enter the entries in a single line (separated by space): \")\n",
    "  \n",
    "# User input of entries in a \n",
    "# single line separated by space\n",
    "entries12 = list(map(float, input().split()))\n",
    "  \n",
    "# For printing the matrix\n",
    "matrix12 = np.array(entries12).reshape(R12, C12)\n",
    "\n",
    "def f(matrix12):\n",
    "    return np.array([[matrix12[1,1], -matrix12[0,1]],[-matrix12[1,0], matrix12[0,0]]])*1/ \\\n",
    "(matrix12[1,1]*matrix12[0,0] - matrix12[1,0]*matrix12[0,1])\n",
    "\n",
    "print(\"our matrix, what i found as its inverse, its actual inverse\")\n",
    "\n",
    "print(matrix12, f(matrix12), np.linalg.inv(matrix12) )"
   ]
  },
  {
   "cell_type": "markdown",
   "id": "cca2cffb",
   "metadata": {},
   "source": [
    "## Thirteenth Question"
   ]
  },
  {
   "cell_type": "code",
   "execution_count": null,
   "id": "0c32fb4b",
   "metadata": {},
   "outputs": [],
   "source": [
    "?"
   ]
  },
  {
   "cell_type": "code",
   "execution_count": null,
   "id": "6639eee5",
   "metadata": {},
   "outputs": [],
   "source": []
  },
  {
   "cell_type": "code",
   "execution_count": null,
   "id": "6979f36b",
   "metadata": {},
   "outputs": [],
   "source": []
  },
  {
   "cell_type": "markdown",
   "id": "05f74b15",
   "metadata": {},
   "source": [
    "## Fourteenth Question\n",
    "\n"
   ]
  },
  {
   "cell_type": "code",
   "execution_count": null,
   "id": "0492c5bf",
   "metadata": {},
   "outputs": [],
   "source": [
    "#bu soru 9 ile aynı"
   ]
  },
  {
   "cell_type": "code",
   "execution_count": null,
   "id": "71d84091",
   "metadata": {},
   "outputs": [],
   "source": []
  },
  {
   "cell_type": "code",
   "execution_count": null,
   "id": "66b7bc7f",
   "metadata": {},
   "outputs": [],
   "source": []
  },
  {
   "cell_type": "markdown",
   "id": "814061d2",
   "metadata": {},
   "source": [
    "## Fifteenth Question\n",
    "\n",
    "Sum of diagonal entries = a_00+ a_11+ a_22+ ...+ a_nn assuming A is an n * n sqaure matrix"
   ]
  },
  {
   "cell_type": "code",
   "execution_count": 21,
   "id": "2e633d34",
   "metadata": {},
   "outputs": [
    {
     "name": "stdout",
     "output_type": "stream",
     "text": [
      "Enter the number of rows:2\n",
      "Enter the number of columns:2\n",
      "Enter the entries in a single line (separated by space): \n",
      "2 3 4 5\n"
     ]
    }
   ],
   "source": [
    "R13 = int(input(\"Enter the number of rows:\"))\n",
    "C13 = int(input(\"Enter the number of columns:\"))\n",
    "  \n",
    "  \n",
    "print(\"Enter the entries in a single line (separated by space): \")\n",
    "  \n",
    "# User input of entries in a \n",
    "# single line separated by space\n",
    "entries13 = list(map(float, input().split()))\n",
    "  \n",
    "# For printing the matrix\n",
    "matrix13 = np.array(entries13).reshape(R, C)"
   ]
  },
  {
   "cell_type": "code",
   "execution_count": 155,
   "id": "1501bd65",
   "metadata": {},
   "outputs": [
    {
     "ename": "NameError",
     "evalue": "name 'j' is not defined",
     "output_type": "error",
     "traceback": [
      "\u001b[1;31m---------------------------------------------------------------------------\u001b[0m",
      "\u001b[1;31mNameError\u001b[0m                                 Traceback (most recent call last)",
      "\u001b[1;32m~\\AppData\\Local\\Temp/ipykernel_17732/4210184538.py\u001b[0m in \u001b[0;36m<module>\u001b[1;34m\u001b[0m\n\u001b[0;32m      1\u001b[0m \u001b[0mi\u001b[0m \u001b[1;33m=\u001b[0m \u001b[1;36m0\u001b[0m\u001b[1;33m\u001b[0m\u001b[1;33m\u001b[0m\u001b[0m\n\u001b[1;32m----> 2\u001b[1;33m \u001b[1;32mif\u001b[0m \u001b[0mi\u001b[0m \u001b[1;33m==\u001b[0m \u001b[0mj\u001b[0m\u001b[1;33m:\u001b[0m\u001b[1;33m\u001b[0m\u001b[1;33m\u001b[0m\u001b[0m\n\u001b[0m\u001b[0;32m      3\u001b[0m   \u001b[1;32mdef\u001b[0m \u001b[0mf\u001b[0m\u001b[1;33m(\u001b[0m\u001b[0mj\u001b[0m\u001b[1;33m)\u001b[0m\u001b[1;33m:\u001b[0m\u001b[1;33m\u001b[0m\u001b[1;33m\u001b[0m\u001b[0m\n\u001b[0;32m      4\u001b[0m     \u001b[1;32mreturn\u001b[0m \u001b[0mjj\u001b[0m\u001b[1;33m[\u001b[0m\u001b[0mi\u001b[0m\u001b[1;33m,\u001b[0m\u001b[0mi\u001b[0m\u001b[1;33m]\u001b[0m \u001b[1;33m+\u001b[0m \u001b[0mjj\u001b[0m\u001b[1;33m[\u001b[0m\u001b[0mj\u001b[0m\u001b[1;33m,\u001b[0m\u001b[0mj\u001b[0m\u001b[1;33m]\u001b[0m\u001b[1;33m\u001b[0m\u001b[1;33m\u001b[0m\u001b[0m\n\u001b[0;32m      5\u001b[0m \u001b[1;33m\u001b[0m\u001b[0m\n",
      "\u001b[1;31mNameError\u001b[0m: name 'j' is not defined"
     ]
    }
   ],
   "source": [
    "i = 0\n",
    "if i == j:\n",
    "  def f(i):\n",
    "    return jj[i,i] + jj[i,i]\n",
    "    \n",
    "    \n",
    "#numpy olmadan trace i hesaplamayı denemiştim ama beceremedim"
   ]
  },
  {
   "cell_type": "code",
   "execution_count": 22,
   "id": "e0f00c4a",
   "metadata": {},
   "outputs": [
    {
     "name": "stdout",
     "output_type": "stream",
     "text": [
      "7.0\n"
     ]
    }
   ],
   "source": [
    "a = np.trace(matrix13)\n",
    "\n",
    "print(a)"
   ]
  },
  {
   "cell_type": "markdown",
   "id": "74fa0541",
   "metadata": {},
   "source": [
    "## Sixteenth Question"
   ]
  },
  {
   "cell_type": "code",
   "execution_count": null,
   "id": "b3921fcf",
   "metadata": {},
   "outputs": [],
   "source": []
  }
 ],
 "metadata": {
  "kernelspec": {
   "display_name": "Python 3 (ipykernel)",
   "language": "python",
   "name": "python3"
  },
  "language_info": {
   "codemirror_mode": {
    "name": "ipython",
    "version": 3
   },
   "file_extension": ".py",
   "mimetype": "text/x-python",
   "name": "python",
   "nbconvert_exporter": "python",
   "pygments_lexer": "ipython3",
   "version": "3.10.1"
  }
 },
 "nbformat": 4,
 "nbformat_minor": 5
}
