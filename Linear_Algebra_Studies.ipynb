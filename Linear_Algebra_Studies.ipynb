{
 "cells": [
  {
   "cell_type": "code",
   "execution_count": 4,
   "id": "8d37dd14",
   "metadata": {
    "scrolled": true
   },
   "outputs": [
    {
     "name": "stdout",
     "output_type": "stream",
     "text": [
      "[[2.0, 3.0], [2.0, 3.0]]\n",
      "[[2.0, 23.0], [2.0, 2.0]]\n",
      "Our values:\n",
      "[[2. 3.]\n",
      " [2. 3.]]----[[ 2. 23.]\n",
      " [ 2.  2.]]----[[10. 52.]\n",
      " [10. 52.]]\n",
      "Their Dot Product:\n",
      "[[ 4. 69.]\n",
      " [ 4.  6.]]\n"
     ]
    }
   ],
   "source": [
    "import numpy as np\n",
    "#Defining a matrix creation mechanism\n",
    "\n",
    "#create your first matrix\n",
    "\n",
    "lst= [ ] \n",
    "n = int(input(\"Enter number of elements : \")) \n",
    "  \n",
    "for i in range(0,n):\n",
    "    g = [float(input()), float(input())]\n",
    "    lst.append(g)\n",
    "      \n",
    "print(lst)\n",
    "\n",
    "a = np.array(lst)\n",
    "\n",
    "#create your second matrix\n",
    "\n",
    "lst2= [ ] \n",
    "n = int(input(\"Enter number of elements : \")) \n",
    "  \n",
    "for i in range(0,n):\n",
    "    g = [float(input()), float(input())]\n",
    "    lst2.append(g)\n",
    "    \n",
    "print(lst2)\n",
    "\n",
    "b = np.array(lst2)\n",
    "\n",
    "\n",
    "print(\"Our values:\")\n",
    "print(a, b, np.dot(a, b), sep = '----')"
   ]
  },
  {
   "cell_type": "code",
   "execution_count": 6,
   "id": "91056092",
   "metadata": {},
   "outputs": [
    {
     "name": "stdout",
     "output_type": "stream",
     "text": [
      "Enter the number of rows:2\n",
      "Enter the number of columns:2\n",
      "Enter the entries in a single line (separated by space): \n",
      "1 2 3 4\n",
      "Enter the number of rows:2\n",
      "Enter the number of columns:2\n",
      "Enter the entries in a single line (separated by space): \n",
      "1 2 3 4\n",
      "Our values and their outer product:\n",
      "[[1 2]\n",
      " [3 4]], [[1 2]\n",
      " [3 4]], [[ 1  2  3  4]\n",
      " [ 2  4  6  8]\n",
      " [ 3  6  9 12]\n",
      " [ 4  8 12 16]]\n"
     ]
    }
   ],
   "source": [
    "import numpy as np\n",
    "\n",
    "#An outer product finding mechanism\n",
    "\n",
    "  \n",
    "R1 = int(input(\"Enter the number of rows:\"))\n",
    "C1 = int(input(\"Enter the number of columns:\"))\n",
    "  \n",
    "  \n",
    "print(\"Enter the entries in a single line (separated by space): \")\n",
    "  \n",
    "# User input of entries in a single line separated by space\n",
    "entries1 = list(map(int, input().split()))\n",
    "\n",
    "matrix1 = np.array(entries1).reshape(R1, C1)\n",
    "\n",
    "R2 = int(input(\"Enter the number of rows:\"))\n",
    "C2 = int(input(\"Enter the number of columns:\"))\n",
    "  \n",
    "  \n",
    "print(\"Enter the entries in a single line (separated by space): \")\n",
    "  \n",
    "# User input of entries in a \n",
    "# single line separated by space\n",
    "entries2 = list(map(int, input().split()))\n",
    "\n",
    "matrix2 = np.array(entries2).reshape(R2, C2)\n",
    "  \n",
    "# For printing the matrix\n",
    "print(\"Our values and their outer product:\")\n",
    "\n",
    "print(matrix1, matrix2, np.outer(matrix, matrix2), sep = ', ')"
   ]
  },
  {
   "cell_type": "code",
   "execution_count": 7,
   "id": "d2b175c6",
   "metadata": {},
   "outputs": [
    {
     "name": "stdout",
     "output_type": "stream",
     "text": [
      "Enter the entries in a single line (separated by space): \n",
      "Enter the entries in a single line (separated by space): \n",
      "[[2 1]\n",
      " [4 6]]oooooooooo[[2 3]\n",
      " [4 5]]oooooooooo[[ 7 13]\n",
      " [26 46]]\n"
     ]
    }
   ],
   "source": [
    "R6 = int(input(\"Enter the number of rows:\"))\n",
    "C6 = int(input(\"Enter the number of columns:\"))\n",
    "\n",
    "#A better mechanism for creating matricies\n",
    "  \n",
    "  \n",
    "print(\"Enter the entries in a single line (separated by space): \")\n",
    "  \n",
    "# User input of entries in a \n",
    "# single line separated by space\n",
    "entries6 = list(map(int, input().split()))\n",
    "  \n",
    "# For printing the matrix\n",
    "matrix6 = np.array(entries6).reshape(R6, C6)\n",
    "\n",
    "\n",
    "R7 = int(input(\"Enter the number of rows:\"))\n",
    "C7 = int(input(\"Enter the number of columns:\"))\n",
    "  \n",
    "  \n",
    "print(\"Enter the entries in a single line (separated by space): \")\n",
    "  \n",
    "# User input of entries in a \n",
    "# single line separated by space\n",
    "entries7 = list(map(int, input().split()))\n",
    "  \n",
    "# For printing the matrix\n",
    "matrix7 = np.array(entries7).reshape(R7, C7)\n",
    "\n",
    "\n",
    "print(matrix7, matrix6, sep = 'oooooooooo')\n",
    "\n",
    "\n",
    "\n"
   ]
  },
  {
   "cell_type": "code",
   "execution_count": 8,
   "id": "3a1d298d",
   "metadata": {},
   "outputs": [
    {
     "name": "stdout",
     "output_type": "stream",
     "text": [
      "Enter the entries in a single line (separated by space): \n",
      "our matrix, what i found as its det, what actually is its det\n",
      "[[1. 2. 3.]\n",
      " [4. 5. 6.]\n",
      " [7. 8. 9.]], 0.0, -9.51619735392994e-16\n"
     ]
    }
   ],
   "source": [
    "import numpy as np\n",
    "\n",
    "R11 = int(input(\"Enter the number of rows:\"))\n",
    "C11 = int(input(\"Enter the number of columns:\"))\n",
    "\n",
    "#A very primitive mechanism for finding determinants\n",
    "  \n",
    "  \n",
    "print(\"Enter the entries in a single line (separated by space): \")\n",
    "  \n",
    "# User input of entries in a \n",
    "# single line separated by space\n",
    "entries11 = list(map(float, input().split()))\n",
    "  \n",
    "# For printing the matrix\n",
    "matrix11 = np.array(entries11).reshape(R11, C11)\n",
    "\n",
    "def f(matrix11):\n",
    "    return matrix11[0,0]*(matrix11[1,1]*matrix11[2,2]-matrix11[1,2]*matrix11[2,1]) \\\n",
    "- matrix11[0,1]*(matrix11[1,0]*matrix11[2,2]-matrix11[2,0]*matrix11[1,2]) + \\\n",
    "matrix11[0,2]*(matrix11[1,0]*matrix11[2,1]-matrix11[2,0]*matrix11[1,1])\n",
    "\n",
    "print(\"our matrix, what i found as its det, what actually is its det\")\n",
    "\n",
    "print(matrix11, f(matrix11), np.linalg.det(matrix11), sep = ', ')\n",
    "\n"
   ]
  },
  {
   "cell_type": "code",
   "execution_count": 16,
   "id": "a18168e3",
   "metadata": {},
   "outputs": [
    {
     "name": "stdout",
     "output_type": "stream",
     "text": [
      "Enter the number of rows:2\n",
      "Enter the number of columns:2\n",
      "Enter the entries in a single line (separated by space): \n",
      "2 3 4 5\n"
     ]
    }
   ],
   "source": [
    "R12 = int(input(\"Enter the number of rows:\"))\n",
    "C12 = int(input(\"Enter the number of columns:\"))\n",
    "  \n",
    "  \n",
    "print(\"Enter the entries in a single line (separated by space): \")\n",
    "  \n",
    "# User input of entries in a \n",
    "# single line separated by space\n",
    "entries12 = list(map(float, input().split()))\n",
    "  \n",
    "# For printing the matrix\n",
    "matrix12 = np.array(entries12).reshape(R12, C12)\n",
    "\n",
    "def f(matrix12):\n",
    "    return np.array([[matrix12[1,1], -matrix12[0,1]],[-matrix12[1,0], matrix12[0,0]]])*1/ \\\n",
    "(matrix12[1,1]*matrix12[0,0] - matrix12[1,0]*matrix12[0,1])\n",
    "\n",
    "print(\"our matrix, what i found as its inverse, its actual inverse\")\n",
    "\n",
    "print(matrix12, f(matrix12), np.linalg.inv(matrix12) )"
   ]
  },
  {
   "cell_type": "code",
   "execution_count": 9,
   "id": "24bc952d",
   "metadata": {},
   "outputs": [],
   "source": [
    "#matrix multiplication algorithm\n",
    "\n",
    "def MatMul(X,Y):\n",
    "\n",
    "   total = np.zeros([np.shape(X)[0], np.shape(Y)[1]])\n",
    "   a = np.zeros([np.shape(X)[0], np.shape(Y)[1]])\n",
    "\n",
    "   if np.shape(X)[1] != np.shape(Y)[0]:\n",
    "      exit(print('your dimensions are incorrect.'))\n",
    "   else:\n",
    "      for i in range(len(X)):\n",
    "         for j in range(len(Y[0])):\n",
    "            total = 0\n",
    "            for k in range(len(X[0])):\n",
    "               total += X[i][k] * Y[k][j]\n",
    "            a[i][j] = total\n",
    "\n",
    "      return a"
   ]
  },
  {
   "cell_type": "code",
   "execution_count": 12,
   "id": "db92a8ea",
   "metadata": {},
   "outputs": [
    {
     "name": "stdout",
     "output_type": "stream",
     "text": [
      "[[ 40. 108.]\n",
      " [ 59. 147.]]\n",
      "\n",
      "\n",
      "[[ 40 108]\n",
      " [ 59 147]]\n"
     ]
    }
   ],
   "source": [
    "X= np.array([[2,4],[4,5]])\n",
    "Y= np.array([[6,8],[7,23]])\n",
    "\n",
    "result= MatMul(X,Y)\n",
    "kontrol = np.matmul(X,Y)\n",
    "\n",
    "\n",
    "#print(result, '\\n\\n', kontrol)\n",
    "print(result, kontrol, sep = '\\n\\n\\n')"
   ]
  },
  {
   "cell_type": "code",
   "execution_count": 14,
   "id": "d872c52a",
   "metadata": {},
   "outputs": [
    {
     "name": "stdout",
     "output_type": "stream",
     "text": [
      "your dimensions are incorrect.\n",
      "None\n"
     ]
    },
    {
     "ename": "",
     "evalue": "",
     "output_type": "error",
     "traceback": [
      "Geçerli hücrede veya önceki bir hücrede kod yürütülürken Çekirdek kilitlendi. Hatanın olası nedenini belirlemek için lütfen hücrelerdeki kodu gözden geçirin. Daha fazla bilgi için <a href='https://aka.ms/vscodeJupyterKernelCrash'>buraya</a> tıklayın. Daha fazla ayrıntı için Jupyter <a href='command:jupyter.viewOutput'>günlüğünü</a> görüntüleyin."
     ]
    }
   ],
   "source": [
    "X= np.array([[2,4]])\n",
    "Y= np.array([[6,8],[7,23],[0,0]])\n",
    "\n",
    "result= MatMul(X,Y)\n",
    "\n",
    "\n",
    "#print(result, '\\n\\n', kontrol)\n",
    "print(result, sep = '\\n\\n')"
   ]
  },
  {
   "cell_type": "code",
   "execution_count": null,
   "id": "53d05140",
   "metadata": {},
   "outputs": [],
   "source": []
  }
 ],
 "metadata": {
  "kernelspec": {
   "display_name": "Python 3.9.7 ('base')",
   "language": "python",
   "name": "python3"
  },
  "language_info": {
   "codemirror_mode": {
    "name": "ipython",
    "version": 3
   },
   "file_extension": ".py",
   "mimetype": "text/x-python",
   "name": "python",
   "nbconvert_exporter": "python",
   "pygments_lexer": "ipython3",
   "version": "3.9.7"
  },
  "vscode": {
   "interpreter": {
    "hash": "8543aeb3ed6b012f3ed36035677020b081add8a8541a0eaa4cba4b51625cb8da"
   }
  }
 },
 "nbformat": 4,
 "nbformat_minor": 5
}
